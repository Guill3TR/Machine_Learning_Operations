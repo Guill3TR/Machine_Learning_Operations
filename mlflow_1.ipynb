{
 "cells": [
  {
   "cell_type": "markdown",
   "metadata": {},
   "source": [
    "# **MLFlow - Part I**"
   ]
  },
  {
   "cell_type": "markdown",
   "metadata": {},
   "source": [
    "### To Install MLFlow:\n",
    "\n",
    "\n",
    "```bash\n",
    "pip install mlflow\n",
    "```\n",
    "\n",
    "### To launch the MLFlow Server:\n",
    "\n",
    "\n",
    "```bash\n",
    "mlflow ui\n",
    "```"
   ]
  },
  {
   "cell_type": "markdown",
   "metadata": {},
   "source": [
    "## Connecting to the MLFlow Server"
   ]
  },
  {
   "cell_type": "code",
   "execution_count": 1,
   "metadata": {},
   "outputs": [],
   "source": [
    "import mlflow\n",
    "\n",
    "mlflow_url = 'http://localhost:5000'\n",
    "\n",
    "mlflow.set_tracking_uri(mlflow_url)"
   ]
  },
  {
   "cell_type": "code",
   "execution_count": 5,
   "metadata": {},
   "outputs": [
    {
     "data": {
      "text/plain": [
       "[<Experiment: artifact_location='mlflow-artifacts:/770692687475810388', creation_time=1709234934558, experiment_id='770692687475810388', last_update_time=1709234934558, lifecycle_stage='active', name='california_housing', tags={}>,\n",
       " <Experiment: artifact_location='mlflow-artifacts:/733259226821169298', creation_time=1708628409884, experiment_id='733259226821169298', last_update_time=1708628409884, lifecycle_stage='active', name='second_experiment', tags={}>,\n",
       " <Experiment: artifact_location='mlflow-artifacts:/998112905315502425', creation_time=1708627317377, experiment_id='998112905315502425', last_update_time=1708627317377, lifecycle_stage='active', name='first_experiment', tags={}>,\n",
       " <Experiment: artifact_location='mlflow-artifacts:/0', creation_time=1708625485103, experiment_id='0', last_update_time=1708625485103, lifecycle_stage='active', name='Default', tags={}>]"
      ]
     },
     "execution_count": 5,
     "metadata": {},
     "output_type": "execute_result"
    }
   ],
   "source": [
    "mlflow.search_experiments()"
   ]
  },
  {
   "cell_type": "markdown",
   "metadata": {},
   "source": [
    "## Creating a New MLFlow Experiment"
   ]
  },
  {
   "cell_type": "code",
   "execution_count": 7,
   "metadata": {},
   "outputs": [],
   "source": [
    "experiment_name = 'first_experiment'\n",
    "\n",
    "experiment_id = mlflow.create_experiment(experiment_name)"
   ]
  },
  {
   "cell_type": "code",
   "execution_count": 8,
   "metadata": {},
   "outputs": [
    {
     "name": "stdout",
     "output_type": "stream",
     "text": [
      "The experiment name is: first_experiment\n",
      "Experiment ID: 547407216548908494\n"
     ]
    }
   ],
   "source": [
    "print('The experiment name is:', experiment_name)\n",
    "print('Experiment ID:', experiment_id)"
   ]
  },
  {
   "cell_type": "markdown",
   "metadata": {},
   "source": [
    "## Creating a New MLFlow Run"
   ]
  },
  {
   "cell_type": "code",
   "execution_count": 9,
   "metadata": {},
   "outputs": [
    {
     "name": "stdout",
     "output_type": "stream",
     "text": [
      "Run ID: 1d45ec2f5ae14e36a467f49deb6bc5f6\n"
     ]
    }
   ],
   "source": [
    "experiment_name = 'first_experiment'\n",
    "\n",
    "experiment = mlflow.get_experiment_by_name(experiment_name)\n",
    "\n",
    "experiment.experiment_id\n",
    "\n",
    "with mlflow.start_run(experiment_id = experiment.experiment_id) as run:\n",
    "    \n",
    "    print(f\"Run ID: {run.info.run_id}\")"
   ]
  },
  {
   "cell_type": "markdown",
   "metadata": {},
   "source": [
    "## Logging Tags, Parameters and Metrics"
   ]
  },
  {
   "cell_type": "code",
   "execution_count": 10,
   "metadata": {},
   "outputs": [
    {
     "name": "stdout",
     "output_type": "stream",
     "text": [
      "Run ID: dd4e9b0db3c04feb8243b0bfce899d43\n"
     ]
    }
   ],
   "source": [
    "experiment_id = mlflow.get_experiment_by_name(experiment_name)\n",
    "\n",
    "with mlflow.start_run(experiment_id = experiment.experiment_id) as run:\n",
    "    \n",
    "    mlflow.set_tags({\n",
    "        \"model_type\": \"RandomForest\"\n",
    "    })\n",
    "    \n",
    "    mlflow.log_param(\"max_depth\", 10)\n",
    "    mlflow.log_param(\"learning_rate\", 0.01)\n",
    "\n",
    "    mlflow.log_metric(\"accuracy\", 0.85)\n",
    "    mlflow.log_metric(\"precision\", 0.90)\n",
    "    mlflow.log_metric(\"recall\", 0.80)\n",
    "\n",
    "    print(f\"Run ID: {run.info.run_id}\")"
   ]
  },
  {
   "cell_type": "markdown",
   "metadata": {},
   "source": [
    "-----------"
   ]
  }
 ],
 "metadata": {
  "kernelspec": {
   "display_name": "mlops-course",
   "language": "python",
   "name": "python3"
  },
  "language_info": {
   "codemirror_mode": {
    "name": "ipython",
    "version": 3
   },
   "file_extension": ".py",
   "mimetype": "text/x-python",
   "name": "python",
   "nbconvert_exporter": "python",
   "pygments_lexer": "ipython3",
   "version": "3.10.13"
  }
 },
 "nbformat": 4,
 "nbformat_minor": 2
}
