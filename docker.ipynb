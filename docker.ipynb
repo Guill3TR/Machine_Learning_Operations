{
 "cells": [
  {
   "cell_type": "markdown",
   "metadata": {},
   "source": [
    "# **DOCKER**"
   ]
  },
  {
   "cell_type": "markdown",
   "metadata": {},
   "source": [
    "- docker build -t my_image .\n",
    "- docker run -ti my_image python"
   ]
  },
  {
   "cell_type": "markdown",
   "metadata": {},
   "source": [
    "- docker build -t my_image .\n",
    "- docker run -ti my_image bash\n",
    "- ls\n",
    "- cat main.py"
   ]
  },
  {
   "cell_type": "markdown",
   "metadata": {},
   "source": [
    "- docker run -p 5432:8000 -ti my_image uvicorn main:app --host 0.0.0.0"
   ]
  },
  {
   "cell_type": "markdown",
   "metadata": {},
   "source": [
    "- docker run -ti -p 5432:8000 my_image"
   ]
  },
  {
   "cell_type": "markdown",
   "metadata": {},
   "source": [
    "- /docs"
   ]
  },
  {
   "cell_type": "markdown",
   "metadata": {},
   "source": [
    "- docker run -e NAME=Guillermo -ti -p 5432:8000 my_image"
   ]
  },
  {
   "cell_type": "markdown",
   "metadata": {},
   "source": [
    "### Connect with Mlflow"
   ]
  },
  {
   "cell_type": "markdown",
   "metadata": {},
   "source": [
    "- docker run --network host ghcr.io/mlflow/mlflow:v2.10.2 mlflow ui"
   ]
  },
  {
   "cell_type": "markdown",
   "metadata": {},
   "source": [
    "### Deploy the model using Mlflow and Docker"
   ]
  },
  {
   "cell_type": "markdown",
   "metadata": {},
   "source": [
    "docker run \\\n",
    "--net host \\\n",
    "--env MLFLOW_TRACKING_URI=http://localhost:5000 \\\n",
    "ghcr.io/mlflow/mlflow:v2.10.2 \\\n",
    "mlflow models serve \\\n",
    "--model-uri models:/<model_name>/<model_version> \\\n",
    "--port 5001 \\\n",
    "--env-manager local"
   ]
  },
  {
   "cell_type": "markdown",
   "metadata": {},
   "source": [
    "---"
   ]
  }
 ],
 "metadata": {
  "language_info": {
   "name": "python"
  }
 },
 "nbformat": 4,
 "nbformat_minor": 2
}
