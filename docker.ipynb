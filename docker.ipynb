{
 "cells": [
  {
   "cell_type": "markdown",
   "metadata": {},
   "source": [
    "# **DOCKER**"
   ]
  },
  {
   "cell_type": "markdown",
   "metadata": {},
   "source": [
    "- Build\n",
    "- Run"
   ]
  },
  {
   "cell_type": "markdown",
   "metadata": {},
   "source": [
    "- docker run rancher/cowsay Hello!\n",
    "- docker run docker/whalesay cowsay boo\n",
    "- docker ps -a\n",
    "- docker run -p 8080:80 nginx"
   ]
  },
  {
   "cell_type": "markdown",
   "metadata": {},
   "source": [
    "### Connect with Mlflow"
   ]
  },
  {
   "cell_type": "markdown",
   "metadata": {},
   "source": [
    "- docker run --network host ghcr.io/mlflow/mlflow:v2.10.2 mlflow ui"
   ]
  },
  {
   "cell_type": "markdown",
   "metadata": {},
   "source": [
    "### Deploy the model using Mlflow and Docker"
   ]
  },
  {
   "cell_type": "markdown",
   "metadata": {},
   "source": [
    "docker run \\\n",
    "--net host \\\n",
    "--env MLFLOW_TRACKING_URI=http://localhost:5000 \\\n",
    "ghcr.io/mlflow/mlflow:v2.10.2 \\\n",
    "mlflow models serve \\\n",
    "--model-uri models:/<model_name>/<model_version> \\\n",
    "--port 5001 \\\n",
    "--env-manager local"
   ]
  },
  {
   "cell_type": "markdown",
   "metadata": {},
   "source": [
    "------------------------"
   ]
  }
 ],
 "metadata": {
  "language_info": {
   "name": "python"
  }
 },
 "nbformat": 4,
 "nbformat_minor": 2
}
